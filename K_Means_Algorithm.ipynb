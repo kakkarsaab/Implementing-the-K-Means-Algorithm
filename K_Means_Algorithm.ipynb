{
  "nbformat": 4,
  "nbformat_minor": 0,
  "metadata": {
    "colab": {
      "name": "K-Means Algorithm.ipynb",
      "provenance": [],
      "collapsed_sections": []
    },
    "kernelspec": {
      "name": "python3",
      "display_name": "Python 3"
    }
  },
  "cells": [
    {
      "cell_type": "markdown",
      "metadata": {
        "id": "xMBC7oja_64g",
        "colab_type": "text"
      },
      "source": [
        "## **K-Means**"
      ]
    },
    {
      "cell_type": "markdown",
      "metadata": {
        "id": "KSvV7k3dAJnE",
        "colab_type": "text"
      },
      "source": [
        "Common clustering technique, helps to solve many problems efficiently.\n",
        "\n",
        "K-Means is an example of Hard Clustering, where every point belongs only to one cluster."
      ]
    },
    {
      "cell_type": "markdown",
      "metadata": {
        "id": "37TqBd7xAVwU",
        "colab_type": "text"
      },
      "source": [
        "**Implementation**"
      ]
    },
    {
      "cell_type": "code",
      "metadata": {
        "id": "gv3WRN9O_0W7",
        "colab_type": "code",
        "colab": {}
      },
      "source": [
        "import numpy as np\n",
        "from matplotlib import pyplot as plt\n",
        "from sklearn.datasets import make_blobs"
      ],
      "execution_count": 0,
      "outputs": []
    },
    {
      "cell_type": "markdown",
      "metadata": {
        "id": "pIynj5kcAbCu",
        "colab_type": "text"
      },
      "source": [
        "**Data Preparation**"
      ]
    },
    {
      "cell_type": "code",
      "metadata": {
        "id": "mduk1zBEAVBD",
        "colab_type": "code",
        "colab": {}
      },
      "source": [
        "X,y  = make_blobs?"
      ],
      "execution_count": 0,
      "outputs": []
    },
    {
      "cell_type": "code",
      "metadata": {
        "id": "wB-A1xyEAhdT",
        "colab_type": "code",
        "colab": {}
      },
      "source": [
        "X,y  = make_blobs(n_samples=500,n_features=2,centers=5,random_state=3)"
      ],
      "execution_count": 0,
      "outputs": []
    },
    {
      "cell_type": "code",
      "metadata": {
        "id": "YYhOIM9SAlNU",
        "colab_type": "code",
        "outputId": "4cd84612-4bb5-46c7-bc22-7e8c4e8d9b03",
        "colab": {
          "base_uri": "https://localhost:8080/",
          "height": 265
        }
      },
      "source": [
        "plt.figure(0)\n",
        "plt.grid(True)\n",
        "plt.scatter(X[:,0],X[:,1])\n",
        "plt.show()"
      ],
      "execution_count": 0,
      "outputs": [
        {
          "output_type": "display_data",
          "data": {
            "image/png": "[encoded data removed]",
            "text/plain": [
              "<Figure size 432x288 with 1 Axes>"
            ]
          },
          "metadata": {
            "tags": []
          }
        }
      ]
    },
    {
      "cell_type": "code",
      "metadata": {
        "id": "UM-TsHYLAnzl",
        "colab_type": "code",
        "colab": {}
      },
      "source": [
        "k = 5\n",
        "\n",
        "color  = [\"green\",\"red\",\"blue\",\"yellow\",\"orange\"]\n",
        "\n",
        "clusters = {}\n",
        "\n",
        "for i in range(k):\n",
        "    center = 10*(2*np.random.random((X.shape[1],))-1)\n",
        "    points = []\n",
        "    \n",
        "    cluster = {\n",
        "        'center':center,\n",
        "        'points':points,\n",
        "        'color': color[i]\n",
        "        }\n",
        "    \n",
        "    clusters[i] = cluster"
      ],
      "execution_count": 0,
      "outputs": []
    },
    {
      "cell_type": "code",
      "metadata": {
        "id": "ShOWNq1KAsDR",
        "colab_type": "code",
        "colab": {}
      },
      "source": [
        "#center = 10*(2*np.random.random((X.shape[1],))-1)\n",
        "#print(center)"
      ],
      "execution_count": 0,
      "outputs": []
    },
    {
      "cell_type": "code",
      "metadata": {
        "id": "L34os7cjAuXD",
        "colab_type": "code",
        "colab": {}
      },
      "source": [
        "#clusters"
      ],
      "execution_count": 0,
      "outputs": []
    },
    {
      "cell_type": "code",
      "metadata": {
        "id": "Z3wjgFGrAwZW",
        "colab_type": "code",
        "colab": {}
      },
      "source": [
        "def distance(v1,v2):\n",
        "    return np.sqrt(np.sum((v1-v2)**2))"
      ],
      "execution_count": 0,
      "outputs": []
    },
    {
      "cell_type": "code",
      "metadata": {
        "id": "hqUymFojAzkH",
        "colab_type": "code",
        "colab": {}
      },
      "source": [
        "# Assign every data point to one of the clusters\n",
        "def assignPointToClusters(clusters): #E-Step\n",
        "    for ix in range(X.shape[0]):\n",
        "        dist = []\n",
        "        curr_x = X[ix]\n",
        "\n",
        "        for kx in range(k):\n",
        "            d = distance(curr_x,clusters[kx]['center'])\n",
        "            dist.append(d)\n",
        "\n",
        "        current_cluster = np.argmin(dist)    \n",
        "        clusters[current_cluster]['points'].append(curr_x)\n",
        "        \n",
        "def updateClusters(clusters): # M-Step -> We update every cluster center according to the mean of the points in it\n",
        "    for kx in range(k):\n",
        "        pts = np.array(clusters[kx]['points'])\n",
        "        \n",
        "        if pts.shape[0]>0: #If a cluster has some-nonzero points\n",
        "            new_u = pts.mean(axis=0)\n",
        "            clusters[kx]['center'] = new_u\n",
        "            clusters[kx]['points'] = [] #Clear the list \n",
        "                    \n",
        "    \n",
        "\n",
        "def plotClusters(clusters):\n",
        "    \n",
        "    for kx in range(k):\n",
        "        #print(len(clusters[kx]['points']))\n",
        "        \n",
        "        pts = np.array(clusters[kx]['points'])\n",
        "        #print(pts.shape)\n",
        "        \n",
        "        #Plot the points\n",
        "        try:\n",
        "            plt.scatter(pts[:,0],pts[:,1],color=clusters[kx]['color'])\n",
        "        except:\n",
        "            pass\n",
        "        \n",
        "        #Plot the cluster center\n",
        "        uk = clusters[kx]['center']\n",
        "        plt.scatter(uk[0],uk[1],color=\"black\",marker=\"*\")"
      ],
      "execution_count": 0,
      "outputs": []
    },
    {
      "cell_type": "code",
      "metadata": {
        "id": "GLpwRZpQA4MB",
        "colab_type": "code",
        "outputId": "29d7163d-6fdc-4a0a-9200-27332164a428",
        "colab": {
          "base_uri": "https://localhost:8080/",
          "height": 265
        }
      },
      "source": [
        "assignPointToClusters(clusters)\n",
        "plotClusters(clusters)"
      ],
      "execution_count": 0,
      "outputs": [
        {
          "output_type": "display_data",
          "data": {
            "image/png": "[encoded data removed]",
            "text/plain": [
              "<Figure size 432x288 with 1 Axes>"
            ]
          },
          "metadata": {
            "tags": []
          }
        }
      ]
    },
    {
      "cell_type": "code",
      "metadata": {
        "id": "q56cpUEhA-fv",
        "colab_type": "code",
        "outputId": "846e1763-16f9-4745-cfbf-6f2482bac5fc",
        "colab": {
          "base_uri": "https://localhost:8080/",
          "height": 265
        }
      },
      "source": [
        "# Repeat this cell few times or put it inside a loop\n",
        "assignPointToClusters(clusters)\n",
        "plotClusters(clusters)\n",
        "updateClusters(clusters)"
      ],
      "execution_count": 0,
      "outputs": [
        {
          "output_type": "display_data",
          "data": {
            "image/png": "[encoded data removed]",
            "text/plain": [
              "<Figure size 432x288 with 1 Axes>"
            ]
          },
          "metadata": {
            "tags": []
          }
        }
      ]
    },
    {
      "cell_type": "code",
      "metadata": {
        "id": "2qYA-sMGBC0D",
        "colab_type": "code",
        "colab": {}
      },
      "source": [
        ""
      ],
      "execution_count": 0,
      "outputs": []
    }
  ]
}